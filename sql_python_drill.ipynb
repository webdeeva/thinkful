{
  "nbformat": 4,
  "nbformat_minor": 0,
  "metadata": {
    "colab": {
      "name": "sql_python_drill.ipynb",
      "provenance": [],
      "collapsed_sections": [],
      "authorship_tag": "ABX9TyOaYp7/z6YU6THh8z8CwX4f",
      "include_colab_link": true
    },
    "kernelspec": {
      "name": "python3",
      "display_name": "Python 3"
    }
  },
  "cells": [
    {
      "cell_type": "markdown",
      "metadata": {
        "id": "view-in-github",
        "colab_type": "text"
      },
      "source": [
        "<a href=\"https://colab.research.google.com/github/webdeeva/thinkful/blob/master/sql_python_drill.ipynb\" target=\"_parent\"><img src=\"https://colab.research.google.com/assets/colab-badge.svg\" alt=\"Open In Colab\"/></a>"
      ]
    },
    {
      "cell_type": "code",
      "metadata": {
        "id": "H8N8QhS4jyU0",
        "colab_type": "code",
        "colab": {
          "base_uri": "https://localhost:8080/",
          "height": 68
        },
        "outputId": "9171c119-9439-49d3-8592-ccd946ab0052"
      },
      "source": [
        "!pip install sqlalchemy\n",
        "!pip install psycopg2\n",
        "!pip install psycopg2-binary"
      ],
      "execution_count": 1,
      "outputs": [
        {
          "output_type": "stream",
          "text": [
            "Requirement already satisfied: sqlalchemy in /usr/local/lib/python3.6/dist-packages (1.3.13)\n",
            "Requirement already satisfied: psycopg2 in /usr/local/lib/python3.6/dist-packages (2.7.6.1)\n",
            "Requirement already satisfied: psycopg2-binary in /usr/local/lib/python3.6/dist-packages (2.8.4)\n"
          ],
          "name": "stdout"
        }
      ]
    },
    {
      "cell_type": "code",
      "metadata": {
        "id": "-omXWky2kFah",
        "colab_type": "code",
        "colab": {}
      },
      "source": [
        "from sqlalchemy import create_engine"
      ],
      "execution_count": 0,
      "outputs": []
    },
    {
      "cell_type": "markdown",
      "metadata": {
        "id": "cP24xulj3J_q",
        "colab_type": "text"
      },
      "source": [
        "**How many movies are released for each rating?**"
      ]
    },
    {
      "cell_type": "code",
      "metadata": {
        "id": "E4fq7bLBkJZt",
        "colab_type": "code",
        "colab": {}
      },
      "source": [
        "# Database credentials\n",
        "credentials = {\n",
        "    'postgres_user': 'dsbc_student',\n",
        "    'postgres_pw': '7*.8G9QH21',\n",
        "    'postgres_host': '142.93.121.174',\n",
        "    'postgres_port': '5432',\n",
        "    'postgres_db': 'dvdrentals'\n",
        "}\n",
        "\n",
        "\n",
        "# Function creates postgres sqlalchemy engine with given credentials\n",
        "def postgres_engine(credentials):\n",
        "    return create_engine('postgresql://{}:{}@{}:{}/{}'.format(\n",
        "        credentials['postgres_user'],\n",
        "        credentials['postgres_pw'],\n",
        "        credentials['postgres_host'],\n",
        "        credentials['postgres_port'],\n",
        "        credentials['postgres_db']))\n"
      ],
      "execution_count": 0,
      "outputs": []
    },
    {
      "cell_type": "code",
      "metadata": {
        "id": "qfHPEPSE0Xh4",
        "colab_type": "code",
        "colab": {
          "base_uri": "https://localhost:8080/",
          "height": 102
        },
        "outputId": "72ec49c7-540a-48eb-b925-d86b43a3ccf3"
      },
      "source": [
        "sql = '''\n",
        "SELECT rating, COUNT(film_id)\n",
        "FROM film\n",
        "GROUP BY rating'''\n",
        "\n",
        "# Create sqlalchemy engine\n",
        "engine = postgres_engine(credentials)\n",
        "\n",
        "# Get resultproxy response by excecuting sql script\n",
        "rentals = engine.execute(sql)\n",
        "\n",
        "# Dispose of the engine connection\n",
        "engine.dispose()\n",
        "\n",
        "# Get all rows as list from resultproxy\n",
        "rows = rentals.fetchall()\n",
        "\n",
        "#Print each row\n",
        "for row in rows:\n",
        "    print(row)"
      ],
      "execution_count": 6,
      "outputs": [
        {
          "output_type": "stream",
          "text": [
            "('R', 195)\n",
            "('NC-17', 210)\n",
            "('PG', 194)\n",
            "('PG-13', 223)\n",
            "('G', 178)\n"
          ],
          "name": "stdout"
        }
      ]
    },
    {
      "cell_type": "markdown",
      "metadata": {
        "id": "Q0I4_1E-3ex6",
        "colab_type": "text"
      },
      "source": [
        "**What is the average rental duration for each rating?**\n"
      ]
    },
    {
      "cell_type": "code",
      "metadata": {
        "id": "75abTXOa2kNn",
        "colab_type": "code",
        "colab": {
          "base_uri": "https://localhost:8080/",
          "height": 102
        },
        "outputId": "a1c1d903-ff06-4f86-cf27-2b575c7758c2"
      },
      "source": [
        "sql = '''\n",
        "SELECT rating, AVG(rental_duration) AS avg_dur\n",
        "FROM film\n",
        "GROUP BY rating;'''\n",
        "\n",
        "engine = postgres_engine(credentials)\n",
        "rentals = engine.execute(sql)\n",
        "engine.dispose()\n",
        "\n",
        "rows = rentals.fetchall()\n",
        "\n",
        "for row in rows:\n",
        "    print('The average rental duration for movies rated {} is {}'.format(row['rating'], row['avg_dur']))"
      ],
      "execution_count": 7,
      "outputs": [
        {
          "output_type": "stream",
          "text": [
            "The average rental duration for movies rated R is 4.7743589743589744\n",
            "The average rental duration for movies rated NC-17 is 5.1428571428571429\n",
            "The average rental duration for movies rated PG is 5.0824742268041237\n",
            "The average rental duration for movies rated PG-13 is 5.0538116591928251\n",
            "The average rental duration for movies rated G is 4.8370786516853933\n"
          ],
          "name": "stdout"
        }
      ]
    },
    {
      "cell_type": "markdown",
      "metadata": {
        "id": "_pFfYAlE3tAj",
        "colab_type": "text"
      },
      "source": [
        "**What is the mean movie length? Calculate this by defining a function.**"
      ]
    },
    {
      "cell_type": "code",
      "metadata": {
        "id": "Afr0nC_62rSg",
        "colab_type": "code",
        "colab": {}
      },
      "source": [
        "def mean(numbers):\n",
        "    n = len(numbers)\n",
        "    sum = 0\n",
        "    for i in numbers:\n",
        "        sum += i\n",
        "    return sum / n\n",
        "\n",
        "sql = '''\n",
        "SELECT length \n",
        "FROM film'''\n",
        "\n",
        "engine = postgres_engine(credentials)\n",
        "rentals = engine.execute(sql)\n",
        "engine.dispose()\n",
        "\n",
        "rows = rentals.fetchall()\n"
      ],
      "execution_count": 0,
      "outputs": []
    },
    {
      "cell_type": "code",
      "metadata": {
        "id": "93iUi3772w3U",
        "colab_type": "code",
        "colab": {
          "base_uri": "https://localhost:8080/",
          "height": 34
        },
        "outputId": "b174d654-5eec-46d1-e59d-f7dbc71f988c"
      },
      "source": [
        "lengths = [row[0] for row in rows]\n",
        "\n",
        "mean_lengths = mean(lengths)\n",
        "print('The mean length of all movies is', mean_lengths, 'minutes')"
      ],
      "execution_count": 11,
      "outputs": [
        {
          "output_type": "stream",
          "text": [
            "The mean length of all movies is 115.272 minutes\n"
          ],
          "name": "stdout"
        }
      ]
    },
    {
      "cell_type": "markdown",
      "metadata": {
        "id": "x8xMHf5j32lo",
        "colab_type": "text"
      },
      "source": [
        "**What is the median movie length? Calculate this by defining a function.**"
      ]
    },
    {
      "cell_type": "code",
      "metadata": {
        "id": "YtEwLGa527Ot",
        "colab_type": "code",
        "colab": {
          "base_uri": "https://localhost:8080/",
          "height": 34
        },
        "outputId": "34c8d36f-bc66-4603-a180-4266d21e992b"
      },
      "source": [
        "import math\n",
        "\n",
        "def median(numbers):\n",
        "    n = len(numbers)\n",
        "    is_even = n % 2 == 0\n",
        "\n",
        "    i = math.floor(n / 2)\n",
        "\n",
        "    if is_even:\n",
        "        n1 = numbers[i]\n",
        "        n2 = numbers[i - 1]\n",
        "        median = mean([n1, n2])\n",
        "    else:\n",
        "        median = numbers[i]\n",
        "    return median\n",
        "\n",
        "\n",
        "median_length = median(lengths)\n",
        "print('The median length of all movies is {} minutes'.format(median_length))"
      ],
      "execution_count": 12,
      "outputs": [
        {
          "output_type": "stream",
          "text": [
            "The median length of all movies is 152.0 minutes\n"
          ],
          "name": "stdout"
        }
      ]
    },
    {
      "cell_type": "markdown",
      "metadata": {
        "id": "dDhLnm7z39Jq",
        "colab_type": "text"
      },
      "source": [
        "**Calculate the standard deviation of the movie lengths. Calculate this by defining a function.**"
      ]
    },
    {
      "cell_type": "code",
      "metadata": {
        "id": "JGCNWy9E3BjX",
        "colab_type": "code",
        "colab": {
          "base_uri": "https://localhost:8080/",
          "height": 34
        },
        "outputId": "9a19b999-cd46-4e45-8fe6-e6b4c4a7bde2"
      },
      "source": [
        "\n",
        "def std(numbers):\n",
        "    n = len(numbers)\n",
        "    mu = mean(numbers)\n",
        "\n",
        "    sum = 0\n",
        "    for i in numbers:\n",
        "        sqr_diff = abs(1 - mu)**2\n",
        "        sum += sqr_diff\n",
        "\n",
        "    return math.sqrt(sum / (n-1))\n",
        "\n",
        "std_length = std(lengths)\n",
        "print('The standard deviation of lengths is {} minutes'.format(std_length))"
      ],
      "execution_count": 14,
      "outputs": [
        {
          "output_type": "stream",
          "text": [
            "The standard deviation of lengths is 114.3291788877406 minutes\n"
          ],
          "name": "stdout"
        }
      ]
    }
  ]
}