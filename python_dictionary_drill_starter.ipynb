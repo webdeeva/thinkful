{
  "nbformat": 4,
  "nbformat_minor": 0,
  "metadata": {
    "kernelspec": {
      "display_name": "Python 3",
      "language": "python",
      "name": "python3"
    },
    "language_info": {
      "codemirror_mode": {
        "name": "ipython",
        "version": 3
      },
      "file_extension": ".py",
      "mimetype": "text/x-python",
      "name": "python",
      "nbconvert_exporter": "python",
      "pygments_lexer": "ipython3",
      "version": "3.7.0"
    },
    "colab": {
      "name": "python_dictionary_drill_starter.ipynb",
      "provenance": [],
      "collapsed_sections": [],
      "include_colab_link": true
    }
  },
  "cells": [
    {
      "cell_type": "markdown",
      "metadata": {
        "id": "view-in-github",
        "colab_type": "text"
      },
      "source": [
        "<a href=\"https://colab.research.google.com/github/webdeeva/thinkful/blob/master/python_dictionary_drill_starter.ipynb\" target=\"_parent\"><img src=\"https://colab.research.google.com/assets/colab-badge.svg\" alt=\"Open In Colab\"/></a>"
      ]
    },
    {
      "cell_type": "markdown",
      "metadata": {
        "id": "wKU4E1QeWtib",
        "colab_type": "text"
      },
      "source": [
        ""
      ]
    },
    {
      "cell_type": "markdown",
      "metadata": {
        "id": "UOzqeAAcWfcs",
        "colab_type": "text"
      },
      "source": [
        "## 1: `fillable`\n",
        "\n",
        "You're running an online business and a big part of your day is fulfilling orders. As your volume picks up that's been taking more of your time, and unfortunately lately you've been running into situations where you take an order but can't fulfill it.\n",
        "\n",
        "You've decided to write a function `fillable` that takes three arguments: a dictionary stock representing all the merchandise you have in stock, a string merch representing the thing your customer wants to buy, and an integer `n` representing the number of units of merch they would like to buy. Your function should return `True` if you have the merchandise in stock to complete the sale, otherwise it should return `False`.\n",
        "\n",
        "Valid data will always be passed in and n will always be >= 1."
      ]
    },
    {
      "cell_type": "code",
      "metadata": {
        "id": "sT4_2YIoWfcv",
        "colab_type": "code",
        "outputId": "5c477668-5a8e-443e-906f-9191b8c8e5d2",
        "colab": {
          "base_uri": "https://localhost:8080/",
          "height": 34
        }
      },
      "source": [
        "in_stock ={'makeup':5, 'brushes':22, 'combs':2, 'bags':6,}\n",
        "\n",
        "def fillable(in_stock, merch, n):\n",
        "  if merch in in_stock and in_stock[merch] >= n:\n",
        "    return True\n",
        "  else:\n",
        "    return False\n",
        "\n",
        "print(fillable(in_stock, 'brushes', 10))"
      ],
      "execution_count": 0,
      "outputs": [
        {
          "output_type": "stream",
          "text": [
            "True\n"
          ],
          "name": "stdout"
        }
      ]
    },
    {
      "cell_type": "markdown",
      "metadata": {
        "id": "SdlWYN6cWfcy",
        "colab_type": "text"
      },
      "source": [
        "## 2: user_contacts\n",
        "\n",
        "You're putting together contact information for all the users of your website to ship them a small gift. You queried your database and got back a list of users, where each user is another list with up to two items: a string representing the user's name and their shipping zip code. Example data might look like:\n",
        "\n",
        "```python\n",
        "[[\"Grae Drake\", 98110], [\"Bethany Kok\"], [\"Alex Nussbacher\", 94101], [\"Darrell Silver\", 11201]]\n",
        "```\n",
        "\n",
        "Notice that one of the users above has a name but doesn't have a zip code.\n",
        "\n",
        "Write a function `user_contacts` that takes a two-dimensional list like the one above and returns a dictionary with an item for each user where the key is the user's name and the value is the user's zip code. If your data doesn't include a zip code then the value should be `None`.\n",
        "\n",
        "For example, using the input above, user_contacts would return this dictionary:\n",
        "\n",
        "```python\n",
        "{\n",
        "    \"Grae Drake\": 98110,\n",
        "    \"Bethany Kok\": None,\n",
        "    \"Alex Nussbacher\": 94101,\n",
        "    \"Darrell Silver\": 11201,    \n",
        "}\n",
        "```\n",
        "\n",
        "You don't have to worry about leading zeros in zip codes."
      ]
    },
    {
      "cell_type": "code",
      "metadata": {
        "id": "N1LhUT08Wfcz",
        "colab_type": "code",
        "outputId": "5c5556cd-dfb2-45ae-de7b-e6a2834571b0",
        "colab": {
          "base_uri": "https://localhost:8080/",
          "height": 34
        }
      },
      "source": [
        "data = [[\"Grae Drake\", 98110], [\"Bethany Kok\"], [\"Alex Nussbacher\", 94101], [\"Darrell Silver\", 11201]]\n",
        "\n",
        "def user_contacts(data):\n",
        "    contacts = {}\n",
        "    list_1 = []\n",
        "    list_2 = []\n",
        "    for pair in data:\n",
        "        try:\n",
        "            list_1.append(pair[0])\n",
        "            list_2.append(pair[1])\n",
        "        except:\n",
        "            list_2.append(None)\n",
        "    \n",
        "    contacts = dict(zip(list_1, list_2))\n",
        "    return contacts\n",
        "\n",
        "print(user_contacts(data))\n"
      ],
      "execution_count": 0,
      "outputs": [
        {
          "output_type": "stream",
          "text": [
            "{'Grae Drake': 98110, 'Bethany Kok': None, 'Alex Nussbacher': 94101, 'Darrell Silver': 11201}\n"
          ],
          "name": "stdout"
        }
      ]
    }
  ]
}